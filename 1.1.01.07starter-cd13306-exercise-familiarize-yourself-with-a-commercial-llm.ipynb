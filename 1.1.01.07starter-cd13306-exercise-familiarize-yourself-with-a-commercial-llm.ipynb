{
 "cells": [
  {
   "cell_type": "markdown",
   "metadata": {},
   "source": [
    "# Exercise: Familiarize yourself with a commercial Large Language Model (LLM)\n",
    "\n",
    "Large Language Models (LLMs) are revolutionizing the AI domain with their ability to parse and generate human language. From content creation, customer support, and market analysis to educational tools, personal assistants, and entertainment, their applications are vast and varied.\n",
    "\n",
    "In this exercise, you will familiarize yourself with a commercial LLM. You will explore its capabilities and think about how you could use it in your own work or personal projects.\n"
   ]
  },
  {
   "cell_type": "markdown",
   "metadata": {},
   "source": [
    "\n",
    "First, choose one of many commercial LLMs with a chat interface. Some include:\n",
    "\n",
    "* [ChatGPT](https://chat.openai.com/) from OpenAI\n",
    "* [Bing](https://www.bing.com/) from Microsoft\n",
    "* [Bard](https://bard.google.com/) from Google\n",
    "\n",
    "Second, create an account with the LLM provider if you haven't already. You may need to provide a credit card number, but you can use the free trial period to explore the LLM's capabilities.\n",
    "\n",
    "Third, explore the LLM's capabilities by following the exercise below.\n"
   ]
  },
  {
   "cell_type": "markdown",
   "metadata": {},
   "source": [
    "\n",
    "\n",
    "## Getting started\n",
    "\n",
    "LLMs generate text using a prompt that provides context for the generated text. The prompt can be a question, a sentence, or a paragraph. The LLM will generate text that follows the context of the prompt.\n",
    "\n",
    "First, let's ask the LLM about Generative AI and its applications. Ask the following question:\n",
    "\n",
    "```\n",
    "What is Generative AI and what are its applications?\n",
    "```\n",
    "\n",
    "We can add follow-up questions in the chat interface, which essentially adds more context to the prompt: in addition to the original prompt, the LLM will also consider its subsequent answers as well as the follow-up questions when generating text.\n",
    "\n",
    "```\n",
    "How do we ensure the ethical use and deployment of Generative AI, especially given its potential for misuse in areas like deepfakes and misinformation?\"\n",
    "```\n",
    "\n",
    "It is amazing to see how the LLM can generate text that follows the context of the prompt. However, it is also important to note that the LLM lacks some very basic reasoning capabilities, as we will see in the next section.\n"
   ]
  },
  {
   "cell_type": "markdown",
   "metadata": {},
   "source": [
    "## LLMs can't answer all questions\n",
    "\n",
    "There are many questions that humans can answer easily, but LLMs cannot. For example, consider the following exchange:\n",
    "\n",
    "```\n",
    "Prompt:\n",
    "    List the first five presidents of the United States.\n",
    "LLM:\n",
    "    The first five presidents of the United States are:\n",
    "\n",
    "    George Washington\n",
    "    John Adams\n",
    "    Thomas Jefferson\n",
    "    James Madison\n",
    "    James Monroe\n",
    "Prompt:\n",
    "    Who is the second US president with both an S and a T in his or her name?\n",
    "LLM:\n",
    "    There is no second US president with both an S and a T in their name. There are only three US presidents with both S and T in their name:\n",
    "\n",
    "    Ulysses S. Grant (18th president)\n",
    "    Chester A. Arthur (21st president)\n",
    "    Grover Cleveland (22nd and 24th president)\n",
    "    Therefore, the second US president with both an S and a T in their name is non-existent.    \n",
    "```\n",
    "\n",
    "So while LLMs are able to create sentences that sound like they are written by humans, they can struggle at questions that involve basic logic. This is because LLMs are trained to be able to fill in missing words in sentences from the large corpora of text they are trained on. They are not trained to reason about the world, although LLM reasoning is a very active and interesting area of research.\n",
    "\n",
    "Now it is your turn. Can you find a question that the LLM cannot answer? Try to stump the LLM by asking it a question that you think it should be able to answer, but it cannot. Sometimes it is hard, because the commercial LLM offerings are continually improving their models to handle differents types of questions more gracefully, and often if an LLM cannot answer a question it will simply say something like \"I don't know\" or \"I don't understand\".\n",
    "\n",
    "Spend a few minutes finding a question that the LLM cannot answer. Then, write down the question and the LLM's response in the cell below.\n",
    "\n",
    "Why do you think the LLM cannot answer this question? What is it about the question that makes it difficult for the LLM to answer? Write down your thoughts in the cell below.\n",
    "\n",
    "\n"
   ]
  },
  {
   "cell_type": "markdown",
   "metadata": {},
   "source": []
  }
 ],
 "metadata": {
  "kernelspec": {
   "display_name": ".venv",
   "language": "python",
   "name": "python3"
  },
  "language_info": {
   "codemirror_mode": {
    "name": "ipython",
    "version": 3
   },
   "file_extension": ".py",
   "mimetype": "text/x-python",
   "name": "python",
   "nbconvert_exporter": "python",
   "pygments_lexer": "ipython3",
   "version": "3.9.17"
  },
  "orig_nbformat": 4
 },
 "nbformat": 4,
 "nbformat_minor": 2
}
