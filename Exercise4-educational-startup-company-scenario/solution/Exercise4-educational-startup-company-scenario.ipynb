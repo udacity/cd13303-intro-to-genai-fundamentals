{
  "cells": [
    {
      "cell_type": "markdown",
      "metadata": {},
      "source": [
        "# Exercise: Educational startup company scenario\n",
        "\n",
        "In this exercise, you will pretend you have joined a new company that is building a new educational platform. You want to match students with class offerings. You decide that using LLMs will help you prototype and ship new features quickly, so you first test your ideas using a commercial LLM.\n",
        "\n",
        "To this end you've conducted a quick survey of a few students with their favorite classes. You also have a list of some of the classes for the next term. You want to use this data to build a model that will predict which classes students will like.\n",
        "\n",
        "### Students\n",
        "\n",
        "| Name              | Major                      | Year of Student | Favorite Class       |\n",
        "|-------------------|----------------------------|-----------------|----------------------|\n",
        "| Emily Thompson    | Computer Science           | Sophomore       | Algorithms 101       |\n",
        "| Jacob Martinez    | Mechanical Engineering     | Junior          | Thermodynamics       |\n",
        "| Aisha Khan        | English Literature         | Senior          | Romantic Poets       |\n",
        "| Lucas de Oliveira | Biology                    | Freshman        | Molecular Biology    |\n",
        "| Sophia Liu        | Business Administration    | Sophomore       | Marketing Principles |\n",
        "| Raj Patel         | Physics                    | Senior          | Quantum Mechanics    |\n",
        "| Mia Williams      | Art History                | Junior          | Renaissance Art      |\n",
        "| Diego Ramirez     | Political Science          | Freshman        | Global Politics      |\n",
        "| Hana Kim          | Psychology                 | Junior          | Cognitive Psychology |\n",
        "| Ahmed El-Sayed    | Chemistry                  | Senior          | Organic Chemistry    |\n",
        "\n",
        "### Classes\n",
        "\n",
        "| Class Name                 | Description                                                                                                  |\n",
        "|----------------------------|--------------------------------------------------------------------------------------------------------------|\n",
        "| Galactic Anthropology 101  | An exploration of hypothetical cultures and civilizations across the universe.                                |\n",
        "| Time Travel Theories       | Dive into the physics, paradoxes, and philosophical debates surrounding the possibility of time travel.       |\n",
        "| Underwater Basket Weaving  | Learn the ancient and calming art of weaving baskets, all while submerged in water.                          |\n",
        "| Advanced Potion Making     | A chemistry-infused course on the creation of magical elixirs and brews.                                     |\n",
        "| Dino-Bot Engineering       | Design and simulate robotic dinosaurs using cutting-edge software.                                           |\n",
        "| Quantum Culinary Arts      | A journey into the subatomic principles of food, blending physics and gastronomy.                            |\n",
        "| Alien Linguistics          | Study the hypothetical languages of extraterrestrial beings and their potential grammatical structures.       |\n",
        "| Historical Fiction Writing | Craft compelling narratives set in bygone eras, blending fact with fiction.                                  |\n",
        "| Music of the Elves         | Delve deep into the enchanting melodies of elvish cultures, their instruments, and their historical significance. |\n",
        "| Virtual Reality Philosophy | Examine the ethical and philosophical implications of virtual worlds and their impact on human cognition.    |\n"
      ],
      "outputs": [],
      "execution_count": null
    },
    {
      "cell_type": "code",
      "execution_count": null,
      "metadata": {},
      "outputs": [],
      "source": [
        "# Here is the data you've collect so far as Markdown tables, which you can copy and paste into\n",
        "# a commercial LLM directly.\n",
        "\n",
        "STUDENTS = \"\"\"\n",
        "| Name              | Major                      | Year of Student | Favorite Class       |\n",
        "|-------------------|----------------------------|-----------------|----------------------|\n",
        "| Emily Thompson    | Computer Science           | Sophomore       | Algorithms 101       |\n",
        "| Jacob Martinez    | Mechanical Engineering     | Junior          | Thermodynamics       |\n",
        "| Aisha Khan        | English Literature         | Senior          | Romantic Poets       |\n",
        "| Lucas de Oliveira | Biology                    | Freshman        | Molecular Biology    |\n",
        "| Sophia Liu        | Business Administration    | Sophomore       | Marketing Principles |\n",
        "| Raj Patel         | Physics                    | Senior          | Quantum Mechanics    |\n",
        "| Mia Williams      | Art History                | Junior          | Renaissance Art      |\n",
        "| Diego Ramirez     | Political Science          | Freshman        | Global Politics      |\n",
        "| Hana Kim          | Psychology                 | Junior          | Cognitive Psychology |\n",
        "| Ahmed El-Sayed    | Chemistry                  | Senior          | Organic Chemistry    |\n",
        "\"\"\"\n",
        "\n",
        "CLASSES = \"\"\"\n",
        "| Class Name                 | Description                                                                                                  |\n",
        "|----------------------------|--------------------------------------------------------------------------------------------------------------|\n",
        "| Galactic Anthropology 101  | An exploration of hypothetical cultures and civilizations across the universe.                                |\n",
        "| Time Travel Theories       | Dive into the physics, paradoxes, and philosophical debates surrounding the possibility of time travel.       |\n",
        "| Underwater Basket Weaving  | Learn the ancient and calming art of weaving baskets, all while submerged in water.                          |\n",
        "| Advanced Potion Making     | A chemistry-infused course on the creation of magical elixirs and brews.                                     |\n",
        "| Dino-Bot Engineering       | Design and simulate robotic dinosaurs using cutting-edge software.                                           |\n",
        "| Quantum Culinary Arts      | A journey into the subatomic principles of food, blending physics and gastronomy.                            |\n",
        "| Alien Linguistics          | Study the hypothetical languages of extraterrestrial beings and their potential grammatical structures.       |\n",
        "| Historical Fiction Writing | Craft compelling narratives set in bygone eras, blending fact with fiction.                                  |\n",
        "| Music of the Elves         | Delve deep into the enchanting melodies of elvish cultures, their instruments, and their historical significance. |\n",
        "| Virtual Reality Philosophy | Examine the ethical and philosophical implications of virtual worlds and their impact on human cognition.    |\n",
        "\"\"\""
      ]
    },
    {
      "cell_type": "markdown",
      "metadata": {},
      "source": [
        "How might you design a prompt that contains the information from above as well as a question or instruction that will give your the best chance of matching students with classes they will enjoy?\n",
        "\n",
        "Note that commercial LLMs can sometimes read Markdown tables directly, so a prompt that asks what Aisha Khan's major was might look like this:\n",
        "\n"
      ],
      "outputs": [],
      "execution_count": null
    },
    {
      "cell_type": "code",
      "execution_count": null,
      "metadata": {},
      "outputs": [],
      "source": [
        "PROMPT = f\"\"\"\n",
        "### Students\n",
        "{STUDENTS}\n",
        "\n",
        "### QUESTION\n",
        "What is Aisha Khan's major?\n",
        "\"\"\"\n",
        "\n",
        "print(PROMPT)"
      ]
    },
    {
      "cell_type": "markdown",
      "metadata": {},
      "source": [
        "Now, copy and paste this prompt into a commercial LLM's web interface and see what it generates. Does it generate the correct answer?\n",
        "\n",
        "You may also query the LLM using its Python API if you prefer; however the point of this exercise is to get a feel for how commercial LLMs work, and using the web interface is a good way understand how different commercial LLM offerings differ from one another.\n",
        "\n",
        "Now it's your turn."
      ],
      "outputs": [],
      "execution_count": null
    },
    {
      "cell_type": "code",
      "execution_count": null,
      "metadata": {},
      "outputs": [],
      "source": [
        "# ONE POSSIBLE SOLUTION\n",
        "\n",
        "# Note: This is just one possible solution. There are many other ways to construct this prompt.\n",
        "# In this solution we ask the LLM the question directly, without providing any examples or\n",
        "# additional instructions.\n",
        "\n",
        "# Prompt to find out which classes should be recommended to which students\n",
        "PROMPT = f\"\"\"\n",
        "### Students\n",
        "{STUDENTS}\n",
        "\n",
        "### Classes\n",
        "{CLASSES}\n",
        "\n",
        "### Question\n",
        "Which classes should be recommended to which students?\n",
        "\"\"\"\n",
        "\n",
        "print(PROMPT)"
      ]
    },
    {
      "cell_type": "markdown",
      "metadata": {},
      "source": [
        "Try running the prompt using the LLM. How well did it do? How quickly did it generate a repsonse?\n",
        "\n",
        "## Questions for thought\n",
        "\n",
        "Consider the following questions:\n",
        "\n",
        "* Do you think your solution will scale to more students and more classes? Why or why not? Think a few minutes here and feel free to use the box below to record your thoughts.\n",
        "\n",
        "* What are ways you can scale your solution to a system that matches a single student with a list of thousands of classes, for instance as a recommendation system integrated into a course catalog?"
      ],
      "outputs": [],
      "execution_count": null
    },
    {
      "cell_type": "markdown",
      "metadata": {},
      "source": [
        "### SOLUTION\n",
        "\n",
        "It's worth noting there is no single right answer here. LLMs are a very active and vibrant area of research, and that is why we are learning about them!\n",
        "\n",
        "One solution was to simply put all the data into the context and ask the LLM for \"student-class pairings\". Of course you will need to review the data to see if the LLM you are using can actually handle this task. In an informal comparison of two commercial LLMs, one was able to handle this task fairly well while the other did not. Note that this was at the time of writing, so things may have changed since then as LLMs are constantly improving.\n",
        "\n",
        "If your LLM cannot handle this task, you can try breaking the problem down into smaller pieces, which is sound advice generally for LLM projects. For instance, you can focus on one student at a time, asking only about a single student in each prompt.\n",
        "\n",
        "Will this solution scale? It depends, but likely not. You may have noticed that LLMs currently are not that fast at generating text, and with that additional GPU compute you are likely to spend lots of money. You can consider parallelizing the processing, but that does not reduce cost. Often, we will need to use a combination of AI techniques with more traditional ones to solve this problem. We can also start looking at smaller, more specialized LLMs that are trained on a specific domain, which may be faster and more accurate (more on this in Lesson 4).\n",
        "\n",
        "In the case of matching a single student with lots of classes, we can first try matching these classes with their departments. In fact, we can use an LLM to generate these lists since our table seems to be missing this information. Then, given a student's major, we can filter out the list of classes that are not in the same department or in related departments. Lastly, we use the LLM to rank the remaining classes based on the student's favorite class.\n",
        "\n",
        "The possibilities here are endless, and with the advent of LLMs, we can now build systems that are more flexible and adaptable than ever before, as long as we are careful to use them within their limitations."
      ],
      "outputs": [],
      "execution_count": null
    }
  ],
  "metadata": {
    "kernelspec": {
      "display_name": "Python 3 (ipykernel)",
      "language": "python",
      "name": "python3"
    },
    "language_info": {
      "codemirror_mode": {
        "name": "ipython",
        "version": 3
      },
      "file_extension": ".py",
      "mimetype": "text/x-python",
      "name": "python",
      "nbconvert_exporter": "python",
      "pygments_lexer": "ipython3",
      "version": "3.10.11"
    }
  },
  "nbformat": 4,
  "nbformat_minor": 4
}
