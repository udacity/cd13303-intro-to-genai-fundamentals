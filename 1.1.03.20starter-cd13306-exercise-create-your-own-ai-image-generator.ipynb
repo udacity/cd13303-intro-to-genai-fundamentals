{
 "cells": [
  {
   "cell_type": "markdown",
   "metadata": {},
   "source": [
    "# Exercise: Create your own AI image generator\n",
    "\n",
    "In this exercise, you will create your own AI image generator. You will take the famous MNIST dataset and train a Variational Auto Encoder that will generate new images of handwritten digits.\n",
    "\n",
    "Let's get started!"
   ]
  },
  {
   "cell_type": "code",
   "execution_count": 2,
   "metadata": {},
   "outputs": [],
   "source": [
    "# https://download.pytorch.org/whl/torch_stable.html \n",
    "! pip install torch torchvision matplotlib > /dev/null"
   ]
  },
  {
   "cell_type": "code",
   "execution_count": 3,
   "metadata": {},
   "outputs": [],
   "source": [
    "# prerequisites\n",
    "import torch\n",
    "import torch.nn as nn\n",
    "import torch.nn.functional as F\n",
    "import torch.optim as optim\n",
    "from torchvision import datasets, transforms\n",
    "from torch.autograd import Variable\n",
    "from torchvision.utils import save_image\n",
    "import matplotlib.pyplot as plt\n",
    "\n",
    "# MNIST Dataset\n",
    "train_dataset = datasets.MNIST(root='./mnist_data/', train=True, transform=transforms.ToTensor(), download=True)\n",
    "train_loader = torch.utils.data.DataLoader(dataset=train_dataset, batch_size=100, shuffle=True)\n",
    "\n"
   ]
  },
  {
   "cell_type": "code",
   "execution_count": 4,
   "metadata": {},
   "outputs": [],
   "source": [
    "# Define a VAE\n",
    "class VAE(nn.Module):\n",
    "    def __init__(self, x_dim, h_dim1, h_dim2, z_dim):\n",
    "        super(VAE, self).__init__()\n",
    "        \n",
    "        # encoder part\n",
    "        self.fc1 = nn.Linear(x_dim, h_dim1)\n",
    "        self.fc2 = nn.Linear(h_dim1, h_dim2)\n",
    "        self.fc31 = nn.Linear(h_dim2, z_dim)\n",
    "        self.fc32 = nn.Linear(h_dim2, z_dim)\n",
    "        # decoder part\n",
    "        self.fc4 = nn.Linear(z_dim, h_dim2)\n",
    "        self.fc5 = nn.Linear(h_dim2, h_dim1)\n",
    "        self.fc6 = nn.Linear(h_dim1, x_dim)\n",
    "\n",
    "        self.z_dim = z_dim\n",
    "        \n",
    "    def encoder(self, x):\n",
    "        h = F.relu(self.fc1(x))\n",
    "        h = F.relu(self.fc2(h))\n",
    "        return self.fc31(h), self.fc32(h) # mu, log_var\n",
    "    \n",
    "    def sampling(self, mu, log_var):\n",
    "        std = torch.exp(0.5*log_var)\n",
    "        eps = torch.randn_like(std)\n",
    "        return eps.mul(std).add_(mu) # return z sample\n",
    "        \n",
    "    def decoder(self, z):\n",
    "        h = F.relu(self.fc4(z))\n",
    "        h = F.relu(self.fc5(h))\n",
    "        return F.sigmoid(self.fc6(h)) \n",
    "    \n",
    "    def forward(self, x):\n",
    "        mu, log_var = self.encoder(x.view(-1, 784))\n",
    "        z = self.sampling(mu, log_var)\n",
    "        return self.decoder(z), mu, log_var\n",
    "\n",
    "# build model\n",
    "vae = VAE(x_dim=784, h_dim1= 512, h_dim2=256, z_dim=4)\n",
    "\n",
    "# set device\n",
    "\n",
    "if torch.cuda.is_available():\n",
    "    device = torch.device('cuda')\n",
    "else:\n",
    "    device = torch.device('cpu')\n"
   ]
  },
  {
   "cell_type": "code",
   "execution_count": 5,
   "metadata": {},
   "outputs": [
    {
     "data": {
      "text/plain": [
       "VAE(\n",
       "  (fc1): Linear(in_features=784, out_features=512, bias=True)\n",
       "  (fc2): Linear(in_features=512, out_features=256, bias=True)\n",
       "  (fc31): Linear(in_features=256, out_features=4, bias=True)\n",
       "  (fc32): Linear(in_features=256, out_features=4, bias=True)\n",
       "  (fc4): Linear(in_features=4, out_features=256, bias=True)\n",
       "  (fc5): Linear(in_features=256, out_features=512, bias=True)\n",
       "  (fc6): Linear(in_features=512, out_features=784, bias=True)\n",
       ")"
      ]
     },
     "execution_count": 5,
     "metadata": {},
     "output_type": "execute_result"
    }
   ],
   "source": [
    "vae"
   ]
  },
  {
   "cell_type": "code",
   "execution_count": 6,
   "metadata": {},
   "outputs": [],
   "source": [
    "optimizer = optim.Adam(vae.parameters())\n",
    "# return reconstruction error + KL divergence losses\n",
    "def loss_function(recon_x, x, mu, log_var):\n",
    "    # Reconstruction error. To measure how well we have reconstructed the input image.\n",
    "    # See https://pytorch.org/docs/stable/generated/torch.nn.BCELoss.html#torch.nn.BCELoss\n",
    "    BCE = F.binary_cross_entropy(recon_x, x.view(-1, 784), reduction='sum')\n",
    "\n",
    "    # KL divergence. To measure how closely the latent variables match a unit Gaussian distribution.\n",
    "    # See the original paper (\"Auto-Encoding Variational Bayes\")[https://arxiv.org/abs/1312.6114]\n",
    "    KLD = -0.5 * torch.sum(1 + log_var - mu.pow(2) - log_var.exp())\n",
    "\n",
    "    return BCE + KLD # total loss"
   ]
  },
  {
   "cell_type": "code",
   "execution_count": 7,
   "metadata": {},
   "outputs": [],
   "source": [
    "def train(epoch):\n",
    "    vae.train() # set model to training mode\n",
    "    train_loss = 0\n",
    "\n",
    "    # iterate over the training data\n",
    "    for batch_idx, (data, _) in enumerate(train_loader):\n",
    "\n",
    "        data = data.to(device) # move data to device\n",
    "        optimizer.zero_grad() # clear the gradients of all optimized variables\n",
    "        \n",
    "        output_images, mu, log_var = vae(data) # forward pass\n",
    "        loss = loss_function(output_images, data, mu, log_var) # calculate loss\n",
    "        \n",
    "        loss.backward() # backward pass\n",
    "        train_loss += loss.item() # update running training loss\n",
    "        optimizer.step() # perform a single optimization step (parameter update)\n",
    "        \n",
    "        if batch_idx % 100 == 0:\n",
    "            print(f'Train Epoch: {epoch} '\n",
    "                  f'[{batch_idx * len(data)}/{len(train_loader.dataset)} {100. * batch_idx / len(train_loader):.0f}] '\n",
    "                  f'Loss: {loss.item() / len(data):.6f}'\n",
    "                  )\n",
    "    print(f'====> Epoch: {epoch} Average loss: {train_loss / len(train_loader.dataset):.4f}')"
   ]
  },
  {
   "cell_type": "code",
   "execution_count": 8,
   "metadata": {},
   "outputs": [],
   "source": [
    "# def test():\n",
    "#     vae.eval()\n",
    "#     test_loss= 0\n",
    "#     with torch.no_grad():\n",
    "#         for data, _ in test_loader:\n",
    "#             # data = data.cuda()\n",
    "#             recon, mu, log_var = vae(data)\n",
    "            \n",
    "#             # sum up batch loss\n",
    "#             test_loss += loss_function(recon, data, mu, log_var).item()\n",
    "        \n",
    "#     test_loss /= len(test_loader.dataset)\n",
    "#     print('====> Test set loss: {:.4f}'.format(test_loss))"
   ]
  },
  {
   "cell_type": "code",
   "execution_count": null,
   "metadata": {},
   "outputs": [],
   "source": []
  },
  {
   "cell_type": "code",
   "execution_count": 9,
   "metadata": {
    "scrolled": true
   },
   "outputs": [
    {
     "name": "stdout",
     "output_type": "stream",
     "text": [
      "Writing ./gen_mnist_img/epoch_0.png\n",
      "Train Epoch: 0 [0/60000 0] Loss: 545.308437\n",
      "Train Epoch: 0 [10000/60000 17] Loss: 189.488945\n",
      "Train Epoch: 0 [20000/60000 33] Loss: 176.446406\n",
      "Train Epoch: 0 [30000/60000 50] Loss: 153.893203\n",
      "Train Epoch: 0 [40000/60000 67] Loss: 150.795557\n",
      "Train Epoch: 0 [50000/60000 83] Loss: 146.693564\n",
      "====> Epoch: 0 Average loss: 168.2435\n",
      "Train Epoch: 1 [0/60000 0] Loss: 136.302158\n",
      "Train Epoch: 1 [10000/60000 17] Loss: 140.435225\n",
      "Train Epoch: 1 [20000/60000 33] Loss: 142.276133\n",
      "Train Epoch: 1 [30000/60000 50] Loss: 129.222168\n",
      "Train Epoch: 1 [40000/60000 67] Loss: 136.789414\n",
      "Train Epoch: 1 [50000/60000 83] Loss: 143.516592\n",
      "====> Epoch: 1 Average loss: 137.6516\n",
      "Train Epoch: 2 [0/60000 0] Loss: 141.526230\n",
      "Train Epoch: 2 [10000/60000 17] Loss: 141.485195\n",
      "Train Epoch: 2 [20000/60000 33] Loss: 127.308711\n",
      "Train Epoch: 2 [30000/60000 50] Loss: 131.170654\n",
      "Train Epoch: 2 [40000/60000 67] Loss: 136.123809\n",
      "Train Epoch: 2 [50000/60000 83] Loss: 134.451367\n",
      "====> Epoch: 2 Average loss: 133.1124\n",
      "Writing ./gen_mnist_img/epoch_3.png\n",
      "Train Epoch: 3 [0/60000 0] Loss: 123.858682\n",
      "Train Epoch: 3 [10000/60000 17] Loss: 132.004961\n",
      "Train Epoch: 3 [20000/60000 33] Loss: 132.696211\n",
      "Train Epoch: 3 [30000/60000 50] Loss: 137.065723\n",
      "Train Epoch: 3 [40000/60000 67] Loss: 128.892783\n",
      "Train Epoch: 3 [50000/60000 83] Loss: 132.574600\n",
      "====> Epoch: 3 Average loss: 130.4658\n",
      "Train Epoch: 4 [0/60000 0] Loss: 122.062695\n",
      "Train Epoch: 4 [10000/60000 17] Loss: 128.084404\n",
      "Train Epoch: 4 [20000/60000 33] Loss: 128.023916\n",
      "Train Epoch: 4 [30000/60000 50] Loss: 126.796074\n",
      "Train Epoch: 4 [40000/60000 67] Loss: 129.531963\n",
      "Train Epoch: 4 [50000/60000 83] Loss: 131.719473\n",
      "====> Epoch: 4 Average loss: 128.5187\n",
      "Train Epoch: 5 [0/60000 0] Loss: 127.870908\n",
      "Train Epoch: 5 [10000/60000 17] Loss: 122.472510\n",
      "Train Epoch: 5 [20000/60000 33] Loss: 131.778008\n",
      "Train Epoch: 5 [30000/60000 50] Loss: 126.016758\n",
      "Train Epoch: 5 [40000/60000 67] Loss: 126.051611\n",
      "Train Epoch: 5 [50000/60000 83] Loss: 131.193418\n",
      "====> Epoch: 5 Average loss: 127.1486\n",
      "Writing ./gen_mnist_img/epoch_5.png\n"
     ]
    }
   ],
   "source": [
    "! rm -rf gen_mnist_img && mkdir -p gen_mnist_img\n",
    "\n",
    "z = torch.randn(16, vae.z_dim).to(device)\n",
    "\n",
    "def write_gen_mnist_img(z, vae, epoch):\n",
    "    with torch.no_grad():\n",
    "        z_decoded = vae.decoder(z).to(device)\n",
    "\n",
    "    filename = f'./gen_mnist_img/epoch_{epoch}.png'   \n",
    "    print(f\"Writing {filename}\")\n",
    "    save_image(z_decoded.view(16, 1, 28, 28), filename)\n",
    "\n",
    "for epoch in range(6):\n",
    "    if epoch % 3 == 0:\n",
    "        write_gen_mnist_img(z, vae, epoch)\n",
    "\n",
    "    train(epoch)\n",
    "\n",
    "write_gen_mnist_img(z, vae, epoch)\n"
   ]
  },
  {
   "cell_type": "code",
   "execution_count": 10,
   "metadata": {},
   "outputs": [
    {
     "name": "stdout",
     "output_type": "stream",
     "text": [
      "=========================================\n",
      "epoch_0.png\n"
     ]
    },
    {
     "data": {
      "image/png": "[encoded data removed]",
      "text/plain": [
       "<IPython.core.display.Image object>"
      ]
     },
     "metadata": {},
     "output_type": "display_data"
    },
    {
     "name": "stdout",
     "output_type": "stream",
     "text": [
      "=========================================\n",
      "epoch_3.png\n"
     ]
    },
    {
     "data": {
      "image/png": "[encoded data removed]",
      "text/plain": [
       "<IPython.core.display.Image object>"
      ]
     },
     "metadata": {},
     "output_type": "display_data"
    },
    {
     "name": "stdout",
     "output_type": "stream",
     "text": [
      "=========================================\n",
      "epoch_5.png\n"
     ]
    },
    {
     "data": {
      "image/png": "[encoded data removed]",
      "text/plain": [
       "<IPython.core.display.Image object>"
      ]
     },
     "metadata": {},
     "output_type": "display_data"
    }
   ],
   "source": [
    "# for each image in the directory gen_mnist_img, show the image\n",
    "from IPython.display import Image, display\n",
    "import matplotlib.pyplot as plt\n",
    "import os\n",
    "\n",
    "filenames = sorted(os.listdir('./gen_mnist_img'))\n",
    "\n",
    "for filename in filenames:\n",
    "    print(\"=========================================\")\n",
    "    print(filename)\n",
    "    display(Image('./gen_mnist_img/' + filename))\n",
    "    plt.show()\n"
   ]
  },
  {
   "cell_type": "code",
   "execution_count": 11,
   "metadata": {},
   "outputs": [
    {
     "data": {
      "text/plain": [
       "tensor([[-0.1755, -0.7560,  1.2792,  1.3944],\n",
       "        [ 0.2064,  0.0617, -0.9806,  0.1840],\n",
       "        [ 0.8846, -0.5556, -0.2331, -0.6110],\n",
       "        [ 0.9311,  0.7514, -1.1772, -0.1154],\n",
       "        [ 0.6720,  0.7672, -1.4230, -1.0333],\n",
       "        [ 0.9499, -0.2068,  0.9084, -0.6871],\n",
       "        [-0.0882, -1.2655,  0.0735,  0.7786],\n",
       "        [-0.2273, -1.8494, -0.1172,  1.0577],\n",
       "        [-0.0347, -0.6089, -1.0442,  0.2008],\n",
       "        [-1.1780, -0.4097,  1.4066,  0.5232],\n",
       "        [ 0.6507, -0.9194,  0.5041, -0.0575],\n",
       "        [-0.0973, -0.2457,  1.1008, -0.2390],\n",
       "        [ 1.7148, -0.4770,  0.6148, -0.6918],\n",
       "        [ 0.7487, -0.4712,  0.1091, -2.5654],\n",
       "        [-1.2931, -0.3248, -0.4960,  1.5480],\n",
       "        [-0.8799,  1.2432,  0.0752,  0.6455]])"
      ]
     },
     "execution_count": 11,
     "metadata": {},
     "output_type": "execute_result"
    }
   ],
   "source": [
    "# Each of the 16 digits is generated by a different 4 dimensional vector. Here\n",
    "# the variable z is a 16x4 matrix. Each row of z generates a single handwritten digit.\n",
    "z"
   ]
  },
  {
   "cell_type": "code",
   "execution_count": 12,
   "metadata": {},
   "outputs": [
    {
     "data": {
      "image/png": "[encoded data removed]",
      "text/plain": [
       "<IPython.core.display.Image object>"
      ]
     },
     "metadata": {},
     "output_type": "display_data"
    }
   ],
   "source": [
    "# Let's explore the space of z a little more. First, let's handcraft\n",
    "# vectors that should exhibit a smooth transition in the output space\n",
    "\n",
    "z = torch.tensor(\n",
    "    [\n",
    "        [ 0.0000,  0.0000,  0.0000,  -1.400],\n",
    "        [ 0.0000,  0.0000,  0.0000,  -1.200],\n",
    "        [ 0.0000,  0.0000,  0.0000,  -1.000],\n",
    "        [ 0.0000,  0.0000,  0.0000,  -0.800],\n",
    "        [ 0.0000,  0.0000,  0.0000,  -0.600],\n",
    "        [ 0.0000,  0.0000,  0.0000,  -0.400],\n",
    "        [ 0.0000,  0.0000,  0.0000,  -0.200],\n",
    "        [ 0.0000,  0.0000,  0.0000,  0.0000],\n",
    "        [ 0.0000,  0.0000,  0.0000,  0.2000],\n",
    "        [ 0.0000,  0.0000,  0.0000,  0.4000],\n",
    "        [ 0.0000,  0.0000,  0.0000,  0.6000],\n",
    "        [ 0.0000,  0.0000,  0.0000,  0.8000],\n",
    "        [ 0.0000,  0.0000,  0.0000,  1.0000],\n",
    "        [ 0.0000,  0.0000,  0.0000,  1.2000],\n",
    "        [ 0.0000,  0.0000,  0.0000,  1.4000],\n",
    "        [ 0.0000,  0.0000,  0.0000,  1.6000],\n",
    "    ]\n",
    ")\n",
    "\n",
    "# Then generate a handwritten digit from that vector.\n",
    "z_decoded = vae.decoder(z).to(device)\n",
    "\n",
    "filename = \"smooth transtion 1.png\"\n",
    "save_image(z_decoded.view(16, 1, 28, 28), filename)\n",
    "display(Image(filename))\n"
   ]
  },
  {
   "cell_type": "code",
   "execution_count": 13,
   "metadata": {},
   "outputs": [
    {
     "data": {
      "image/png": "[encoded data removed]",
      "text/plain": [
       "<IPython.core.display.Image object>"
      ]
     },
     "metadata": {},
     "output_type": "display_data"
    }
   ],
   "source": [
    "# Now try putting in your own numbers below. How many different digits can you \n",
    "# smoothly transition between?\n",
    "\n",
    "z = torch.tensor(\n",
    "    [\n",
    "        [ 0.0000,  0.0000,  0.0000,  0.0000],\n",
    "        [ 0.0000,  0.0000,  0.0000,  0.0000],\n",
    "        [ 0.0000,  0.0000,  0.0000,  0.0000],\n",
    "        [ 0.0000,  0.0000,  0.0000,  0.0000],\n",
    "        [ 0.0000,  0.0000,  0.0000,  0.0000],\n",
    "        [ 0.0000,  0.0000,  0.0000,  0.0000],\n",
    "        [ 0.0000,  0.0000,  0.0000,  0.0000],\n",
    "        [ 0.0000,  0.0000,  0.0000,  0.0000],\n",
    "        [ 0.0000,  0.0000,  0.0000,  0.0000],\n",
    "        [ 0.0000,  0.0000,  0.0000,  0.0000],\n",
    "        [ 0.0000,  0.0000,  0.0000,  0.0000],\n",
    "        [ 0.0000,  0.0000,  0.0000,  0.0000],\n",
    "        [ 0.0000,  0.0000,  0.0000,  0.0000],\n",
    "        [ 0.0000,  0.0000,  0.0000,  0.0000],\n",
    "        [ 0.0000,  0.0000,  0.0000,  0.0000],\n",
    "        [ 0.0000,  0.0000,  0.0000,  0.0000],\n",
    "    ]\n",
    ")\n",
    "\n",
    "# Then generate a handwritten digit from that vector.\n",
    "z_decoded = vae.decoder(z).to(device)\n",
    "\n",
    "filename = \"smooth transtion 2.png\"\n",
    "save_image(z_decoded.view(16, 1, 28, 28), filename)\n",
    "display(Image(filename))\n"
   ]
  }
 ],
 "metadata": {
  "kernelspec": {
   "display_name": "Python 3",
   "language": "python",
   "name": "python3"
  },
  "language_info": {
   "codemirror_mode": {
    "name": "ipython",
    "version": 3
   },
   "file_extension": ".py",
   "mimetype": "text/x-python",
   "name": "python",
   "nbconvert_exporter": "python",
   "pygments_lexer": "ipython3",
   "version": "3.9.17"
  }
 },
 "nbformat": 4,
 "nbformat_minor": 2
}
